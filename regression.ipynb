{
 "cells": [
  {
   "cell_type": "markdown",
   "metadata": {},
   "source": [
    "# Задача регрессии\n",
    "\n",
    "### Выбор предметной области \n",
    "\n",
    "В качестве предметной области мной была выбрана задача оценки расходов на медицину. Мною был взят [следующий датасет](https://www.kaggle.com/datasets/willianoliveiragibin/healthcare-insurance) с Kaggle. В нём представлена информация: \n",
    "- пол, \n",
    "- возраст, \n",
    "- индекс массы тела, \n",
    "- количество детей, \n",
    "- курит ли человек,\n",
    "- регион проживания,\n",
    "- траты на медицину. \n",
    "\n",
    "По данным о человеке постараемся оценить его расходы на медицину. Это может быть полезно людям без страховки, которые планируют оценить затраты при оформлении страховки.\n",
    "\n",
    "### Выбор метрик качества\n",
    "\n",
    "Для задачи классификации я выбрала метрики MSE и R2-score. Квадрат отклонения увеличивает влияние больших ошибок, что делает эту метрику полезной для задач, где крупные отклонения крайне нежелательны, чтобы избежать существенных потерь.\n",
    "\n",
    "R2-score (коэффициент детерминации) буду использовать для оценки общей точности модели.\n",
    "\n"
   ]
  },
  {
   "cell_type": "code",
   "execution_count": 1,
   "metadata": {},
   "outputs": [
    {
     "name": "stdout",
     "output_type": "stream",
     "text": [
      "Skipping, found downloaded files in \".\\healthcare-insurance\" (use force=True to force download)\n"
     ]
    }
   ],
   "source": [
    "from sklearn.model_selection import train_test_split\n",
    "from sklearn.neighbors import KNeighborsRegressor\n",
    "from sklearn.metrics import mean_squared_error, r2_score\n",
    "from sklearn.preprocessing import MinMaxScaler\n",
    "from sklearn.preprocessing import LabelEncoder\n",
    "import numpy as np\n",
    "import pandas as pd\n",
    "import opendatasets as od\n",
    "\n",
    "url = 'https://www.kaggle.com/datasets/willianoliveiragibin/healthcare-insurance'  \n",
    "od.download(url)"
   ]
  },
  {
   "cell_type": "code",
   "execution_count": 2,
   "metadata": {},
   "outputs": [
    {
     "data": {
      "text/html": [
       "<div>\n",
       "<style scoped>\n",
       "    .dataframe tbody tr th:only-of-type {\n",
       "        vertical-align: middle;\n",
       "    }\n",
       "\n",
       "    .dataframe tbody tr th {\n",
       "        vertical-align: top;\n",
       "    }\n",
       "\n",
       "    .dataframe thead th {\n",
       "        text-align: right;\n",
       "    }\n",
       "</style>\n",
       "<table border=\"1\" class=\"dataframe\">\n",
       "  <thead>\n",
       "    <tr style=\"text-align: right;\">\n",
       "      <th></th>\n",
       "      <th>age</th>\n",
       "      <th>sex</th>\n",
       "      <th>bmi</th>\n",
       "      <th>children</th>\n",
       "      <th>smoker</th>\n",
       "      <th>region</th>\n",
       "      <th>charges</th>\n",
       "    </tr>\n",
       "  </thead>\n",
       "  <tbody>\n",
       "    <tr>\n",
       "      <th>0</th>\n",
       "      <td>19</td>\n",
       "      <td>female</td>\n",
       "      <td>27.900</td>\n",
       "      <td>0</td>\n",
       "      <td>yes</td>\n",
       "      <td>southwest</td>\n",
       "      <td>16884.92400</td>\n",
       "    </tr>\n",
       "    <tr>\n",
       "      <th>1</th>\n",
       "      <td>18</td>\n",
       "      <td>male</td>\n",
       "      <td>33.770</td>\n",
       "      <td>1</td>\n",
       "      <td>no</td>\n",
       "      <td>southeast</td>\n",
       "      <td>1725.55230</td>\n",
       "    </tr>\n",
       "    <tr>\n",
       "      <th>2</th>\n",
       "      <td>28</td>\n",
       "      <td>male</td>\n",
       "      <td>33.000</td>\n",
       "      <td>3</td>\n",
       "      <td>no</td>\n",
       "      <td>southeast</td>\n",
       "      <td>4449.46200</td>\n",
       "    </tr>\n",
       "    <tr>\n",
       "      <th>3</th>\n",
       "      <td>33</td>\n",
       "      <td>male</td>\n",
       "      <td>22.705</td>\n",
       "      <td>0</td>\n",
       "      <td>no</td>\n",
       "      <td>northwest</td>\n",
       "      <td>21984.47061</td>\n",
       "    </tr>\n",
       "    <tr>\n",
       "      <th>4</th>\n",
       "      <td>32</td>\n",
       "      <td>male</td>\n",
       "      <td>28.880</td>\n",
       "      <td>0</td>\n",
       "      <td>no</td>\n",
       "      <td>northwest</td>\n",
       "      <td>3866.85520</td>\n",
       "    </tr>\n",
       "    <tr>\n",
       "      <th>5</th>\n",
       "      <td>31</td>\n",
       "      <td>female</td>\n",
       "      <td>25.740</td>\n",
       "      <td>0</td>\n",
       "      <td>no</td>\n",
       "      <td>southeast</td>\n",
       "      <td>3756.62160</td>\n",
       "    </tr>\n",
       "    <tr>\n",
       "      <th>6</th>\n",
       "      <td>46</td>\n",
       "      <td>female</td>\n",
       "      <td>33.440</td>\n",
       "      <td>1</td>\n",
       "      <td>no</td>\n",
       "      <td>southeast</td>\n",
       "      <td>8240.58960</td>\n",
       "    </tr>\n",
       "    <tr>\n",
       "      <th>7</th>\n",
       "      <td>37</td>\n",
       "      <td>female</td>\n",
       "      <td>27.740</td>\n",
       "      <td>3</td>\n",
       "      <td>no</td>\n",
       "      <td>northwest</td>\n",
       "      <td>7281.50560</td>\n",
       "    </tr>\n",
       "    <tr>\n",
       "      <th>8</th>\n",
       "      <td>37</td>\n",
       "      <td>male</td>\n",
       "      <td>29.830</td>\n",
       "      <td>2</td>\n",
       "      <td>no</td>\n",
       "      <td>northeast</td>\n",
       "      <td>6406.41070</td>\n",
       "    </tr>\n",
       "    <tr>\n",
       "      <th>9</th>\n",
       "      <td>60</td>\n",
       "      <td>female</td>\n",
       "      <td>25.840</td>\n",
       "      <td>0</td>\n",
       "      <td>no</td>\n",
       "      <td>northwest</td>\n",
       "      <td>28923.13692</td>\n",
       "    </tr>\n",
       "  </tbody>\n",
       "</table>\n",
       "</div>"
      ],
      "text/plain": [
       "   age     sex     bmi  children smoker     region      charges\n",
       "0   19  female  27.900         0    yes  southwest  16884.92400\n",
       "1   18    male  33.770         1     no  southeast   1725.55230\n",
       "2   28    male  33.000         3     no  southeast   4449.46200\n",
       "3   33    male  22.705         0     no  northwest  21984.47061\n",
       "4   32    male  28.880         0     no  northwest   3866.85520\n",
       "5   31  female  25.740         0     no  southeast   3756.62160\n",
       "6   46  female  33.440         1     no  southeast   8240.58960\n",
       "7   37  female  27.740         3     no  northwest   7281.50560\n",
       "8   37    male  29.830         2     no  northeast   6406.41070\n",
       "9   60  female  25.840         0     no  northwest  28923.13692"
      ]
     },
     "execution_count": 2,
     "metadata": {},
     "output_type": "execute_result"
    }
   ],
   "source": [
    "data_path = './healthcare-insurance/insurance.csv' \n",
    "data = pd.read_csv(data_path)\n",
    "\n",
    "data.head(10)"
   ]
  },
  {
   "cell_type": "markdown",
   "metadata": {},
   "source": [
    "# Создание бейзлайна"
   ]
  },
  {
   "cell_type": "code",
   "execution_count": 3,
   "metadata": {},
   "outputs": [
    {
     "data": {
      "text/html": [
       "<div>\n",
       "<style scoped>\n",
       "    .dataframe tbody tr th:only-of-type {\n",
       "        vertical-align: middle;\n",
       "    }\n",
       "\n",
       "    .dataframe tbody tr th {\n",
       "        vertical-align: top;\n",
       "    }\n",
       "\n",
       "    .dataframe thead th {\n",
       "        text-align: right;\n",
       "    }\n",
       "</style>\n",
       "<table border=\"1\" class=\"dataframe\">\n",
       "  <thead>\n",
       "    <tr style=\"text-align: right;\">\n",
       "      <th></th>\n",
       "      <th>age</th>\n",
       "      <th>sex</th>\n",
       "      <th>bmi</th>\n",
       "      <th>children</th>\n",
       "      <th>smoker</th>\n",
       "      <th>region</th>\n",
       "      <th>charges</th>\n",
       "    </tr>\n",
       "  </thead>\n",
       "  <tbody>\n",
       "    <tr>\n",
       "      <th>0</th>\n",
       "      <td>19</td>\n",
       "      <td>0</td>\n",
       "      <td>27.900</td>\n",
       "      <td>0</td>\n",
       "      <td>1</td>\n",
       "      <td>3</td>\n",
       "      <td>16885</td>\n",
       "    </tr>\n",
       "    <tr>\n",
       "      <th>1</th>\n",
       "      <td>18</td>\n",
       "      <td>1</td>\n",
       "      <td>33.770</td>\n",
       "      <td>1</td>\n",
       "      <td>0</td>\n",
       "      <td>2</td>\n",
       "      <td>1726</td>\n",
       "    </tr>\n",
       "    <tr>\n",
       "      <th>2</th>\n",
       "      <td>28</td>\n",
       "      <td>1</td>\n",
       "      <td>33.000</td>\n",
       "      <td>3</td>\n",
       "      <td>0</td>\n",
       "      <td>2</td>\n",
       "      <td>4449</td>\n",
       "    </tr>\n",
       "    <tr>\n",
       "      <th>3</th>\n",
       "      <td>33</td>\n",
       "      <td>1</td>\n",
       "      <td>22.705</td>\n",
       "      <td>0</td>\n",
       "      <td>0</td>\n",
       "      <td>1</td>\n",
       "      <td>21984</td>\n",
       "    </tr>\n",
       "    <tr>\n",
       "      <th>4</th>\n",
       "      <td>32</td>\n",
       "      <td>1</td>\n",
       "      <td>28.880</td>\n",
       "      <td>0</td>\n",
       "      <td>0</td>\n",
       "      <td>1</td>\n",
       "      <td>3867</td>\n",
       "    </tr>\n",
       "    <tr>\n",
       "      <th>5</th>\n",
       "      <td>31</td>\n",
       "      <td>0</td>\n",
       "      <td>25.740</td>\n",
       "      <td>0</td>\n",
       "      <td>0</td>\n",
       "      <td>2</td>\n",
       "      <td>3757</td>\n",
       "    </tr>\n",
       "    <tr>\n",
       "      <th>6</th>\n",
       "      <td>46</td>\n",
       "      <td>0</td>\n",
       "      <td>33.440</td>\n",
       "      <td>1</td>\n",
       "      <td>0</td>\n",
       "      <td>2</td>\n",
       "      <td>8241</td>\n",
       "    </tr>\n",
       "    <tr>\n",
       "      <th>7</th>\n",
       "      <td>37</td>\n",
       "      <td>0</td>\n",
       "      <td>27.740</td>\n",
       "      <td>3</td>\n",
       "      <td>0</td>\n",
       "      <td>1</td>\n",
       "      <td>7282</td>\n",
       "    </tr>\n",
       "    <tr>\n",
       "      <th>8</th>\n",
       "      <td>37</td>\n",
       "      <td>1</td>\n",
       "      <td>29.830</td>\n",
       "      <td>2</td>\n",
       "      <td>0</td>\n",
       "      <td>0</td>\n",
       "      <td>6406</td>\n",
       "    </tr>\n",
       "    <tr>\n",
       "      <th>9</th>\n",
       "      <td>60</td>\n",
       "      <td>0</td>\n",
       "      <td>25.840</td>\n",
       "      <td>0</td>\n",
       "      <td>0</td>\n",
       "      <td>1</td>\n",
       "      <td>28923</td>\n",
       "    </tr>\n",
       "  </tbody>\n",
       "</table>\n",
       "</div>"
      ],
      "text/plain": [
       "   age  sex     bmi  children  smoker  region  charges\n",
       "0   19    0  27.900         0       1       3    16885\n",
       "1   18    1  33.770         1       0       2     1726\n",
       "2   28    1  33.000         3       0       2     4449\n",
       "3   33    1  22.705         0       0       1    21984\n",
       "4   32    1  28.880         0       0       1     3867\n",
       "5   31    0  25.740         0       0       2     3757\n",
       "6   46    0  33.440         1       0       2     8241\n",
       "7   37    0  27.740         3       0       1     7282\n",
       "8   37    1  29.830         2       0       0     6406\n",
       "9   60    0  25.840         0       0       1    28923"
      ]
     },
     "execution_count": 3,
     "metadata": {},
     "output_type": "execute_result"
    }
   ],
   "source": [
    "label_encoders = {}\n",
    "for col in ['sex', 'smoker', 'region']:\n",
    "    le = LabelEncoder()\n",
    "    data[col] = le.fit_transform(data[col])\n",
    "    label_encoders[col] = le\n",
    "\n",
    "data['charges'] = data['charges'].apply(round)\n",
    "\n",
    "data.head(10)"
   ]
  },
  {
   "cell_type": "code",
   "execution_count": 4,
   "metadata": {},
   "outputs": [],
   "source": [
    "X = data.drop('charges', axis=1)\n",
    "Y = data['charges']\n",
    "\n",
    "X_train, X_test, Y_train, Y_test = train_test_split(X, Y, test_size=0.2, random_state=42)"
   ]
  },
  {
   "cell_type": "markdown",
   "metadata": {},
   "source": [
    "### KNN"
   ]
  },
  {
   "cell_type": "code",
   "execution_count": 5,
   "metadata": {},
   "outputs": [
    {
     "name": "stdout",
     "output_type": "stream",
     "text": [
      "MSE error: 132220020.5628306\n",
      "R^2 score: 0.14833149669983492\n"
     ]
    }
   ],
   "source": [
    "modelKNN = KNeighborsRegressor(n_neighbors=100)\n",
    "modelKNN.fit(X_train, Y_train)\n",
    "Y_pred = modelKNN.predict(X_test)\n",
    "\n",
    "print(\"MSE error:\", mean_squared_error(Y_test, Y_pred))\n",
    "print(\"R^2 score:\", r2_score(Y_test, Y_pred))"
   ]
  },
  {
   "cell_type": "markdown",
   "metadata": {},
   "source": [
    "### Логистическая регрессия"
   ]
  },
  {
   "cell_type": "code",
   "execution_count": 6,
   "metadata": {},
   "outputs": [
    {
     "name": "stdout",
     "output_type": "stream",
     "text": [
      "MSE error: 121180129.39179105\n",
      "R^2 score: 0.2194427213858725\n"
     ]
    }
   ],
   "source": [
    "from sklearn.linear_model import LogisticRegression, LinearRegression\n",
    "     \n",
    "modelLogisticRegression = LogisticRegression(random_state=42, max_iter=100000)\n",
    "modelLogisticRegression.fit(X_train, Y_train)\n",
    "Y_pred2 = modelLogisticRegression.predict(X_test)\n",
    "\n",
    "print(\"MSE error:\", mean_squared_error(Y_test, Y_pred2))\n",
    "print(\"R^2 score:\", r2_score(Y_test, Y_pred2))"
   ]
  },
  {
   "cell_type": "markdown",
   "metadata": {},
   "source": [
    "### Линейная регрессия"
   ]
  },
  {
   "cell_type": "code",
   "execution_count": 7,
   "metadata": {},
   "outputs": [
    {
     "name": "stdout",
     "output_type": "stream",
     "text": [
      "MSE error: 33634917.01004699\n",
      "R^2 score: 0.7833474892332242\n"
     ]
    }
   ],
   "source": [
    "modelLinearRegression = LinearRegression()\n",
    "modelLinearRegression.fit(X_train, Y_train)\n",
    "Y_pred3 = modelLinearRegression.predict(X_test)\n",
    "\n",
    "print(\"MSE error:\", mean_squared_error(Y_test, Y_pred3))\n",
    "print(\"R^2 score:\", r2_score(Y_test, Y_pred3))"
   ]
  },
  {
   "cell_type": "markdown",
   "metadata": {},
   "source": [
    "### Решающее дерево"
   ]
  },
  {
   "cell_type": "code",
   "execution_count": 8,
   "metadata": {},
   "outputs": [
    {
     "name": "stdout",
     "output_type": "stream",
     "text": [
      "MSE error: 38032726.13059702\n",
      "R^2 score: 0.7550198918273622\n"
     ]
    }
   ],
   "source": [
    "from sklearn.tree import DecisionTreeRegressor\n",
    "\n",
    "modelDecisionTree = DecisionTreeRegressor(random_state=42)\n",
    "modelDecisionTree.fit(X_train, Y_train)\n",
    "Y_pred4 = modelDecisionTree.predict(X_test)\n",
    "\n",
    "print(\"MSE error:\", mean_squared_error(Y_test, Y_pred4))\n",
    "print(\"R^2 score:\", r2_score(Y_test, Y_pred4))"
   ]
  },
  {
   "cell_type": "markdown",
   "metadata": {},
   "source": [
    "### Случайный лес"
   ]
  },
  {
   "cell_type": "code",
   "execution_count": 9,
   "metadata": {},
   "outputs": [
    {
     "name": "stdout",
     "output_type": "stream",
     "text": [
      "MSE error: 21301763.13335078\n",
      "R^2 score: 0.8627890039026697\n"
     ]
    }
   ],
   "source": [
    "from sklearn.ensemble import RandomForestRegressor\n",
    "\n",
    "modelRandomForest = RandomForestRegressor(n_estimators=100, random_state=42)\n",
    "modelRandomForest.fit(X_train, Y_train)\n",
    "Y_pred5 = modelRandomForest.predict(X_test)\n",
    "\n",
    "print(\"MSE error:\", mean_squared_error(Y_test, Y_pred5))\n",
    "print(\"R^2 score:\", r2_score(Y_test, Y_pred5))"
   ]
  },
  {
   "cell_type": "markdown",
   "metadata": {},
   "source": [
    "### Градиентный бустинг"
   ]
  },
  {
   "cell_type": "code",
   "execution_count": 10,
   "metadata": {},
   "outputs": [
    {
     "name": "stdout",
     "output_type": "stream",
     "text": [
      "MSE error: 22172683.640710697\n",
      "R^2 score: 0.8571791457144826\n"
     ]
    }
   ],
   "source": [
    "from sklearn.ensemble import GradientBoostingRegressor\n",
    "\n",
    "modelGradientBoosting = GradientBoostingRegressor(n_estimators=200, learning_rate=0.01, random_state=42)\n",
    "modelGradientBoosting.fit(X_train, Y_train)\n",
    "Y_pred6 = modelGradientBoosting.predict(X_test)\n",
    "\n",
    "print(\"MSE error:\", mean_squared_error(Y_test, Y_pred6))\n",
    "print(\"R^2 score:\", r2_score(Y_test, Y_pred6))"
   ]
  },
  {
   "cell_type": "markdown",
   "metadata": {},
   "source": [
    "# Улучшение бейзлайна\n",
    "\n",
    "Выполню визуализацию данных и их препроцессинг."
   ]
  },
  {
   "cell_type": "code",
   "execution_count": 11,
   "metadata": {},
   "outputs": [],
   "source": [
    "data_path = './healthcare-insurance/insurance.csv' \n",
    "data = pd.read_csv(data_path)\n",
    "\n",
    "label_encoders = {}\n",
    "for col in ['sex', 'smoker', 'region']:\n",
    "    le = LabelEncoder()\n",
    "    data[col] = le.fit_transform(data[col])\n",
    "    label_encoders[col] = le\n",
    "\n",
    "data['charges'] = data['charges'].apply(round)"
   ]
  },
  {
   "cell_type": "code",
   "execution_count": 12,
   "metadata": {},
   "outputs": [
    {
     "name": "stdout",
     "output_type": "stream",
     "text": [
      "<class 'pandas.core.frame.DataFrame'>\n",
      "RangeIndex: 1338 entries, 0 to 1337\n",
      "Data columns (total 7 columns):\n",
      " #   Column    Non-Null Count  Dtype  \n",
      "---  ------    --------------  -----  \n",
      " 0   age       1338 non-null   int64  \n",
      " 1   sex       1338 non-null   int64  \n",
      " 2   bmi       1338 non-null   float64\n",
      " 3   children  1338 non-null   int64  \n",
      " 4   smoker    1338 non-null   int64  \n",
      " 5   region    1338 non-null   int64  \n",
      " 6   charges   1338 non-null   int64  \n",
      "dtypes: float64(1), int64(6)\n",
      "memory usage: 73.3 KB\n"
     ]
    }
   ],
   "source": [
    "data.info()"
   ]
  },
  {
   "cell_type": "code",
   "execution_count": 13,
   "metadata": {},
   "outputs": [
    {
     "data": {
      "text/plain": [
       "age         0\n",
       "sex         0\n",
       "bmi         0\n",
       "children    0\n",
       "smoker      0\n",
       "region      0\n",
       "charges     0\n",
       "dtype: int64"
      ]
     },
     "execution_count": 13,
     "metadata": {},
     "output_type": "execute_result"
    }
   ],
   "source": [
    "data.isnull().sum()"
   ]
  },
  {
   "cell_type": "code",
   "execution_count": 14,
   "metadata": {},
   "outputs": [
    {
     "data": {
      "image/png": "[encoded data removed]",
      "text/plain": [
       "<Figure size 500x500 with 1 Axes>"
      ]
     },
     "metadata": {},
     "output_type": "display_data"
    }
   ],
   "source": [
    "import seaborn as sns\n",
    "import matplotlib.pyplot as plt\n",
    "\n",
    "sns.displot(data['charges'])\n",
    "plt.ylabel(\"Количество человек\")\n",
    "plt.xlabel(\"Размер выплат\")\n",
    "plt.show()"
   ]
  },
  {
   "cell_type": "code",
   "execution_count": 15,
   "metadata": {},
   "outputs": [
    {
     "data": {
      "image/png": "[encoded data removed]",
      "text/plain": [
       "<Figure size 640x480 with 2 Axes>"
      ]
     },
     "metadata": {},
     "output_type": "display_data"
    }
   ],
   "source": [
    "sns.heatmap(data.corr(),annot=True);"
   ]
  },
  {
   "cell_type": "markdown",
   "metadata": {},
   "source": [
    "В качестве предобработки закодирую пол и признак курит ли человек с помощью OneHotEncoder. Также приведу все признаки к одному масштабу, чтобы модели лучше обучались."
   ]
  },
  {
   "cell_type": "code",
   "execution_count": 16,
   "metadata": {},
   "outputs": [
    {
     "data": {
      "text/html": [
       "<style>#sk-container-id-1 {\n",
       "  /* Definition of color scheme common for light and dark mode */\n",
       "  --sklearn-color-text: #000;\n",
       "  --sklearn-color-text-muted: #666;\n",
       "  --sklearn-color-line: gray;\n",
       "  /* Definition of color scheme for unfitted estimators */\n",
       "  --sklearn-color-unfitted-level-0: #fff5e6;\n",
       "  --sklearn-color-unfitted-level-1: #f6e4d2;\n",
       "  --sklearn-color-unfitted-level-2: #ffe0b3;\n",
       "  --sklearn-color-unfitted-level-3: chocolate;\n",
       "  /* Definition of color scheme for fitted estimators */\n",
       "  --sklearn-color-fitted-level-0: #f0f8ff;\n",
       "  --sklearn-color-fitted-level-1: #d4ebff;\n",
       "  --sklearn-color-fitted-level-2: #b3dbfd;\n",
       "  --sklearn-color-fitted-level-3: cornflowerblue;\n",
       "\n",
       "  /* Specific color for light theme */\n",
       "  --sklearn-color-text-on-default-background: var(--sg-text-color, var(--theme-code-foreground, var(--jp-content-font-color1, black)));\n",
       "  --sklearn-color-background: var(--sg-background-color, var(--theme-background, var(--jp-layout-color0, white)));\n",
       "  --sklearn-color-border-box: var(--sg-text-color, var(--theme-code-foreground, var(--jp-content-font-color1, black)));\n",
       "  --sklearn-color-icon: #696969;\n",
       "\n",
       "  @media (prefers-color-scheme: dark) {\n",
       "    /* Redefinition of color scheme for dark theme */\n",
       "    --sklearn-color-text-on-default-background: var(--sg-text-color, var(--theme-code-foreground, var(--jp-content-font-color1, white)));\n",
       "    --sklearn-color-background: var(--sg-background-color, var(--theme-background, var(--jp-layout-color0, #111)));\n",
       "    --sklearn-color-border-box: var(--sg-text-color, var(--theme-code-foreground, var(--jp-content-font-color1, white)));\n",
       "    --sklearn-color-icon: #878787;\n",
       "  }\n",
       "}\n",
       "\n",
       "#sk-container-id-1 {\n",
       "  color: var(--sklearn-color-text);\n",
       "}\n",
       "\n",
       "#sk-container-id-1 pre {\n",
       "  padding: 0;\n",
       "}\n",
       "\n",
       "#sk-container-id-1 input.sk-hidden--visually {\n",
       "  border: 0;\n",
       "  clip: rect(1px 1px 1px 1px);\n",
       "  clip: rect(1px, 1px, 1px, 1px);\n",
       "  height: 1px;\n",
       "  margin: -1px;\n",
       "  overflow: hidden;\n",
       "  padding: 0;\n",
       "  position: absolute;\n",
       "  width: 1px;\n",
       "}\n",
       "\n",
       "#sk-container-id-1 div.sk-dashed-wrapped {\n",
       "  border: 1px dashed var(--sklearn-color-line);\n",
       "  margin: 0 0.4em 0.5em 0.4em;\n",
       "  box-sizing: border-box;\n",
       "  padding-bottom: 0.4em;\n",
       "  background-color: var(--sklearn-color-background);\n",
       "}\n",
       "\n",
       "#sk-container-id-1 div.sk-container {\n",
       "  /* jupyter's `normalize.less` sets `[hidden] { display: none; }`\n",
       "     but bootstrap.min.css set `[hidden] { display: none !important; }`\n",
       "     so we also need the `!important` here to be able to override the\n",
       "     default hidden behavior on the sphinx rendered scikit-learn.org.\n",
       "     See: https://github.com/scikit-learn/scikit-learn/issues/21755 */\n",
       "  display: inline-block !important;\n",
       "  position: relative;\n",
       "}\n",
       "\n",
       "#sk-container-id-1 div.sk-text-repr-fallback {\n",
       "  display: none;\n",
       "}\n",
       "\n",
       "div.sk-parallel-item,\n",
       "div.sk-serial,\n",
       "div.sk-item {\n",
       "  /* draw centered vertical line to link estimators */\n",
       "  background-image: linear-gradient(var(--sklearn-color-text-on-default-background), var(--sklearn-color-text-on-default-background));\n",
       "  background-size: 2px 100%;\n",
       "  background-repeat: no-repeat;\n",
       "  background-position: center center;\n",
       "}\n",
       "\n",
       "/* Parallel-specific style estimator block */\n",
       "\n",
       "#sk-container-id-1 div.sk-parallel-item::after {\n",
       "  content: \"\";\n",
       "  width: 100%;\n",
       "  border-bottom: 2px solid var(--sklearn-color-text-on-default-background);\n",
       "  flex-grow: 1;\n",
       "}\n",
       "\n",
       "#sk-container-id-1 div.sk-parallel {\n",
       "  display: flex;\n",
       "  align-items: stretch;\n",
       "  justify-content: center;\n",
       "  background-color: var(--sklearn-color-background);\n",
       "  position: relative;\n",
       "}\n",
       "\n",
       "#sk-container-id-1 div.sk-parallel-item {\n",
       "  display: flex;\n",
       "  flex-direction: column;\n",
       "}\n",
       "\n",
       "#sk-container-id-1 div.sk-parallel-item:first-child::after {\n",
       "  align-self: flex-end;\n",
       "  width: 50%;\n",
       "}\n",
       "\n",
       "#sk-container-id-1 div.sk-parallel-item:last-child::after {\n",
       "  align-self: flex-start;\n",
       "  width: 50%;\n",
       "}\n",
       "\n",
       "#sk-container-id-1 div.sk-parallel-item:only-child::after {\n",
       "  width: 0;\n",
       "}\n",
       "\n",
       "/* Serial-specific style estimator block */\n",
       "\n",
       "#sk-container-id-1 div.sk-serial {\n",
       "  display: flex;\n",
       "  flex-direction: column;\n",
       "  align-items: center;\n",
       "  background-color: var(--sklearn-color-background);\n",
       "  padding-right: 1em;\n",
       "  padding-left: 1em;\n",
       "}\n",
       "\n",
       "\n",
       "/* Toggleable style: style used for estimator/Pipeline/ColumnTransformer box that is\n",
       "clickable and can be expanded/collapsed.\n",
       "- Pipeline and ColumnTransformer use this feature and define the default style\n",
       "- Estimators will overwrite some part of the style using the `sk-estimator` class\n",
       "*/\n",
       "\n",
       "/* Pipeline and ColumnTransformer style (default) */\n",
       "\n",
       "#sk-container-id-1 div.sk-toggleable {\n",
       "  /* Default theme specific background. It is overwritten whether we have a\n",
       "  specific estimator or a Pipeline/ColumnTransformer */\n",
       "  background-color: var(--sklearn-color-background);\n",
       "}\n",
       "\n",
       "/* Toggleable label */\n",
       "#sk-container-id-1 label.sk-toggleable__label {\n",
       "  cursor: pointer;\n",
       "  display: flex;\n",
       "  width: 100%;\n",
       "  margin-bottom: 0;\n",
       "  padding: 0.5em;\n",
       "  box-sizing: border-box;\n",
       "  text-align: center;\n",
       "  align-items: start;\n",
       "  justify-content: space-between;\n",
       "  gap: 0.5em;\n",
       "}\n",
       "\n",
       "#sk-container-id-1 label.sk-toggleable__label .caption {\n",
       "  font-size: 0.6rem;\n",
       "  font-weight: lighter;\n",
       "  color: var(--sklearn-color-text-muted);\n",
       "}\n",
       "\n",
       "#sk-container-id-1 label.sk-toggleable__label-arrow:before {\n",
       "  /* Arrow on the left of the label */\n",
       "  content: \"▸\";\n",
       "  float: left;\n",
       "  margin-right: 0.25em;\n",
       "  color: var(--sklearn-color-icon);\n",
       "}\n",
       "\n",
       "#sk-container-id-1 label.sk-toggleable__label-arrow:hover:before {\n",
       "  color: var(--sklearn-color-text);\n",
       "}\n",
       "\n",
       "/* Toggleable content - dropdown */\n",
       "\n",
       "#sk-container-id-1 div.sk-toggleable__content {\n",
       "  max-height: 0;\n",
       "  max-width: 0;\n",
       "  overflow: hidden;\n",
       "  text-align: left;\n",
       "  /* unfitted */\n",
       "  background-color: var(--sklearn-color-unfitted-level-0);\n",
       "}\n",
       "\n",
       "#sk-container-id-1 div.sk-toggleable__content.fitted {\n",
       "  /* fitted */\n",
       "  background-color: var(--sklearn-color-fitted-level-0);\n",
       "}\n",
       "\n",
       "#sk-container-id-1 div.sk-toggleable__content pre {\n",
       "  margin: 0.2em;\n",
       "  border-radius: 0.25em;\n",
       "  color: var(--sklearn-color-text);\n",
       "  /* unfitted */\n",
       "  background-color: var(--sklearn-color-unfitted-level-0);\n",
       "}\n",
       "\n",
       "#sk-container-id-1 div.sk-toggleable__content.fitted pre {\n",
       "  /* unfitted */\n",
       "  background-color: var(--sklearn-color-fitted-level-0);\n",
       "}\n",
       "\n",
       "#sk-container-id-1 input.sk-toggleable__control:checked~div.sk-toggleable__content {\n",
       "  /* Expand drop-down */\n",
       "  max-height: 200px;\n",
       "  max-width: 100%;\n",
       "  overflow: auto;\n",
       "}\n",
       "\n",
       "#sk-container-id-1 input.sk-toggleable__control:checked~label.sk-toggleable__label-arrow:before {\n",
       "  content: \"▾\";\n",
       "}\n",
       "\n",
       "/* Pipeline/ColumnTransformer-specific style */\n",
       "\n",
       "#sk-container-id-1 div.sk-label input.sk-toggleable__control:checked~label.sk-toggleable__label {\n",
       "  color: var(--sklearn-color-text);\n",
       "  background-color: var(--sklearn-color-unfitted-level-2);\n",
       "}\n",
       "\n",
       "#sk-container-id-1 div.sk-label.fitted input.sk-toggleable__control:checked~label.sk-toggleable__label {\n",
       "  background-color: var(--sklearn-color-fitted-level-2);\n",
       "}\n",
       "\n",
       "/* Estimator-specific style */\n",
       "\n",
       "/* Colorize estimator box */\n",
       "#sk-container-id-1 div.sk-estimator input.sk-toggleable__control:checked~label.sk-toggleable__label {\n",
       "  /* unfitted */\n",
       "  background-color: var(--sklearn-color-unfitted-level-2);\n",
       "}\n",
       "\n",
       "#sk-container-id-1 div.sk-estimator.fitted input.sk-toggleable__control:checked~label.sk-toggleable__label {\n",
       "  /* fitted */\n",
       "  background-color: var(--sklearn-color-fitted-level-2);\n",
       "}\n",
       "\n",
       "#sk-container-id-1 div.sk-label label.sk-toggleable__label,\n",
       "#sk-container-id-1 div.sk-label label {\n",
       "  /* The background is the default theme color */\n",
       "  color: var(--sklearn-color-text-on-default-background);\n",
       "}\n",
       "\n",
       "/* On hover, darken the color of the background */\n",
       "#sk-container-id-1 div.sk-label:hover label.sk-toggleable__label {\n",
       "  color: var(--sklearn-color-text);\n",
       "  background-color: var(--sklearn-color-unfitted-level-2);\n",
       "}\n",
       "\n",
       "/* Label box, darken color on hover, fitted */\n",
       "#sk-container-id-1 div.sk-label.fitted:hover label.sk-toggleable__label.fitted {\n",
       "  color: var(--sklearn-color-text);\n",
       "  background-color: var(--sklearn-color-fitted-level-2);\n",
       "}\n",
       "\n",
       "/* Estimator label */\n",
       "\n",
       "#sk-container-id-1 div.sk-label label {\n",
       "  font-family: monospace;\n",
       "  font-weight: bold;\n",
       "  display: inline-block;\n",
       "  line-height: 1.2em;\n",
       "}\n",
       "\n",
       "#sk-container-id-1 div.sk-label-container {\n",
       "  text-align: center;\n",
       "}\n",
       "\n",
       "/* Estimator-specific */\n",
       "#sk-container-id-1 div.sk-estimator {\n",
       "  font-family: monospace;\n",
       "  border: 1px dotted var(--sklearn-color-border-box);\n",
       "  border-radius: 0.25em;\n",
       "  box-sizing: border-box;\n",
       "  margin-bottom: 0.5em;\n",
       "  /* unfitted */\n",
       "  background-color: var(--sklearn-color-unfitted-level-0);\n",
       "}\n",
       "\n",
       "#sk-container-id-1 div.sk-estimator.fitted {\n",
       "  /* fitted */\n",
       "  background-color: var(--sklearn-color-fitted-level-0);\n",
       "}\n",
       "\n",
       "/* on hover */\n",
       "#sk-container-id-1 div.sk-estimator:hover {\n",
       "  /* unfitted */\n",
       "  background-color: var(--sklearn-color-unfitted-level-2);\n",
       "}\n",
       "\n",
       "#sk-container-id-1 div.sk-estimator.fitted:hover {\n",
       "  /* fitted */\n",
       "  background-color: var(--sklearn-color-fitted-level-2);\n",
       "}\n",
       "\n",
       "/* Specification for estimator info (e.g. \"i\" and \"?\") */\n",
       "\n",
       "/* Common style for \"i\" and \"?\" */\n",
       "\n",
       ".sk-estimator-doc-link,\n",
       "a:link.sk-estimator-doc-link,\n",
       "a:visited.sk-estimator-doc-link {\n",
       "  float: right;\n",
       "  font-size: smaller;\n",
       "  line-height: 1em;\n",
       "  font-family: monospace;\n",
       "  background-color: var(--sklearn-color-background);\n",
       "  border-radius: 1em;\n",
       "  height: 1em;\n",
       "  width: 1em;\n",
       "  text-decoration: none !important;\n",
       "  margin-left: 0.5em;\n",
       "  text-align: center;\n",
       "  /* unfitted */\n",
       "  border: var(--sklearn-color-unfitted-level-1) 1pt solid;\n",
       "  color: var(--sklearn-color-unfitted-level-1);\n",
       "}\n",
       "\n",
       ".sk-estimator-doc-link.fitted,\n",
       "a:link.sk-estimator-doc-link.fitted,\n",
       "a:visited.sk-estimator-doc-link.fitted {\n",
       "  /* fitted */\n",
       "  border: var(--sklearn-color-fitted-level-1) 1pt solid;\n",
       "  color: var(--sklearn-color-fitted-level-1);\n",
       "}\n",
       "\n",
       "/* On hover */\n",
       "div.sk-estimator:hover .sk-estimator-doc-link:hover,\n",
       ".sk-estimator-doc-link:hover,\n",
       "div.sk-label-container:hover .sk-estimator-doc-link:hover,\n",
       ".sk-estimator-doc-link:hover {\n",
       "  /* unfitted */\n",
       "  background-color: var(--sklearn-color-unfitted-level-3);\n",
       "  color: var(--sklearn-color-background);\n",
       "  text-decoration: none;\n",
       "}\n",
       "\n",
       "div.sk-estimator.fitted:hover .sk-estimator-doc-link.fitted:hover,\n",
       ".sk-estimator-doc-link.fitted:hover,\n",
       "div.sk-label-container:hover .sk-estimator-doc-link.fitted:hover,\n",
       ".sk-estimator-doc-link.fitted:hover {\n",
       "  /* fitted */\n",
       "  background-color: var(--sklearn-color-fitted-level-3);\n",
       "  color: var(--sklearn-color-background);\n",
       "  text-decoration: none;\n",
       "}\n",
       "\n",
       "/* Span, style for the box shown on hovering the info icon */\n",
       ".sk-estimator-doc-link span {\n",
       "  display: none;\n",
       "  z-index: 9999;\n",
       "  position: relative;\n",
       "  font-weight: normal;\n",
       "  right: .2ex;\n",
       "  padding: .5ex;\n",
       "  margin: .5ex;\n",
       "  width: min-content;\n",
       "  min-width: 20ex;\n",
       "  max-width: 50ex;\n",
       "  color: var(--sklearn-color-text);\n",
       "  box-shadow: 2pt 2pt 4pt #999;\n",
       "  /* unfitted */\n",
       "  background: var(--sklearn-color-unfitted-level-0);\n",
       "  border: .5pt solid var(--sklearn-color-unfitted-level-3);\n",
       "}\n",
       "\n",
       ".sk-estimator-doc-link.fitted span {\n",
       "  /* fitted */\n",
       "  background: var(--sklearn-color-fitted-level-0);\n",
       "  border: var(--sklearn-color-fitted-level-3);\n",
       "}\n",
       "\n",
       ".sk-estimator-doc-link:hover span {\n",
       "  display: block;\n",
       "}\n",
       "\n",
       "/* \"?\"-specific style due to the `<a>` HTML tag */\n",
       "\n",
       "#sk-container-id-1 a.estimator_doc_link {\n",
       "  float: right;\n",
       "  font-size: 1rem;\n",
       "  line-height: 1em;\n",
       "  font-family: monospace;\n",
       "  background-color: var(--sklearn-color-background);\n",
       "  border-radius: 1rem;\n",
       "  height: 1rem;\n",
       "  width: 1rem;\n",
       "  text-decoration: none;\n",
       "  /* unfitted */\n",
       "  color: var(--sklearn-color-unfitted-level-1);\n",
       "  border: var(--sklearn-color-unfitted-level-1) 1pt solid;\n",
       "}\n",
       "\n",
       "#sk-container-id-1 a.estimator_doc_link.fitted {\n",
       "  /* fitted */\n",
       "  border: var(--sklearn-color-fitted-level-1) 1pt solid;\n",
       "  color: var(--sklearn-color-fitted-level-1);\n",
       "}\n",
       "\n",
       "/* On hover */\n",
       "#sk-container-id-1 a.estimator_doc_link:hover {\n",
       "  /* unfitted */\n",
       "  background-color: var(--sklearn-color-unfitted-level-3);\n",
       "  color: var(--sklearn-color-background);\n",
       "  text-decoration: none;\n",
       "}\n",
       "\n",
       "#sk-container-id-1 a.estimator_doc_link.fitted:hover {\n",
       "  /* fitted */\n",
       "  background-color: var(--sklearn-color-fitted-level-3);\n",
       "}\n",
       "</style><div id=\"sk-container-id-1\" class=\"sk-top-container\"><div class=\"sk-text-repr-fallback\"><pre>OneHotEncoder(handle_unknown=&#x27;ignore&#x27;, sparse_output=False)</pre><b>In a Jupyter environment, please rerun this cell to show the HTML representation or trust the notebook. <br />On GitHub, the HTML representation is unable to render, please try loading this page with nbviewer.org.</b></div><div class=\"sk-container\" hidden><div class=\"sk-item\"><div class=\"sk-estimator fitted sk-toggleable\"><input class=\"sk-toggleable__control sk-hidden--visually\" id=\"sk-estimator-id-1\" type=\"checkbox\" checked><label for=\"sk-estimator-id-1\" class=\"sk-toggleable__label fitted sk-toggleable__label-arrow\"><div><div>OneHotEncoder</div></div><div><a class=\"sk-estimator-doc-link fitted\" rel=\"noreferrer\" target=\"_blank\" href=\"https://scikit-learn.org/1.6/modules/generated/sklearn.preprocessing.OneHotEncoder.html\">?<span>Documentation for OneHotEncoder</span></a><span class=\"sk-estimator-doc-link fitted\">i<span>Fitted</span></span></div></label><div class=\"sk-toggleable__content fitted\"><pre>OneHotEncoder(handle_unknown=&#x27;ignore&#x27;, sparse_output=False)</pre></div> </div></div></div></div>"
      ],
      "text/plain": [
       "OneHotEncoder(handle_unknown='ignore', sparse_output=False)"
      ]
     },
     "execution_count": 16,
     "metadata": {},
     "output_type": "execute_result"
    }
   ],
   "source": [
    "from sklearn.preprocessing import MinMaxScaler, OneHotEncoder\n",
    "\n",
    "categorical_features = ['sex', 'smoker']\n",
    "\n",
    "encoder = OneHotEncoder(handle_unknown='ignore', sparse_output=False)\n",
    "encoder.fit(data[categorical_features])"
   ]
  },
  {
   "cell_type": "code",
   "execution_count": 17,
   "metadata": {},
   "outputs": [],
   "source": [
    "X = data.drop('charges', axis=1)\n",
    "Y = data['charges']\n",
    "\n",
    "scaler = MinMaxScaler()\n",
    "X_scaled = scaler.fit_transform(X)\n",
    "\n",
    "X_train, X_test, Y_train, Y_test = train_test_split(X_scaled, Y, test_size=0.2, random_state=42)"
   ]
  },
  {
   "cell_type": "markdown",
   "metadata": {},
   "source": [
    "## Обучение с улучшенным бейзлайном\n",
    "\n",
    "При обучении буду подбирать параметры обучения с помощью GridSearch."
   ]
  },
  {
   "cell_type": "markdown",
   "metadata": {},
   "source": [
    "### KNN"
   ]
  },
  {
   "cell_type": "code",
   "execution_count": 18,
   "metadata": {},
   "outputs": [
    {
     "name": "stdout",
     "output_type": "stream",
     "text": [
      "Fitting 5 folds for each of 24 candidates, totalling 120 fits\n",
      "MSE error: 29904625.664437614\n",
      "R^2 score: 0.8073754059864136\n",
      "Best params: {'metric': 'manhattan', 'n_neighbors': 9, 'weights': 'distance'}\n"
     ]
    }
   ],
   "source": [
    "\n",
    "from sklearn.model_selection import GridSearchCV\n",
    "from sklearn.metrics import make_scorer\n",
    "\n",
    "knn_param_grid = {\n",
    "    \"n_neighbors\": [3, 5, 7, 9],\n",
    "    \"weights\": [\"uniform\", \"distance\"],\n",
    "    \"metric\": [\"euclidean\", \"manhattan\", \"minkowski\"]\n",
    "}\n",
    "\n",
    "grid_search_knn = GridSearchCV(estimator=KNeighborsRegressor(), param_grid=knn_param_grid, scoring=make_scorer(mean_squared_error, greater_is_better=False), cv=5, verbose=2, n_jobs=-1)\n",
    "grid_search_knn.fit(X_train, Y_train)\n",
    "\n",
    "optimal_model = grid_search_knn.best_estimator_\n",
    "Y_pred = optimal_model.predict(X_test)\n",
    "\n",
    "print(\"MSE error:\", mean_squared_error(Y_test, Y_pred))\n",
    "print(\"R^2 score:\", r2_score(Y_test, Y_pred))\n",
    "print(f\"Best params: {grid_search_knn.best_params_}\")"
   ]
  },
  {
   "cell_type": "markdown",
   "metadata": {},
   "source": [
    "### Логистичекая регрессия"
   ]
  },
  {
   "cell_type": "code",
   "execution_count": 19,
   "metadata": {},
   "outputs": [
    {
     "name": "stdout",
     "output_type": "stream",
     "text": [
      "Fitting 3 folds for each of 60 candidates, totalling 180 fits\n"
     ]
    },
    {
     "name": "stderr",
     "output_type": "stream",
     "text": [
      "c:\\Users\\Alice\\Downloads\\4\\ПГП\\mult\\venv\\lib\\site-packages\\sklearn\\model_selection\\_split.py:805: UserWarning: The least populated class in y has only 1 members, which is less than n_splits=3.\n",
      "  warnings.warn(\n",
      "c:\\Users\\Alice\\Downloads\\4\\ПГП\\mult\\venv\\lib\\site-packages\\sklearn\\model_selection\\_validation.py:528: FitFailedWarning: \n",
      "75 fits failed out of a total of 180.\n",
      "The score on these train-test partitions for these parameters will be set to nan.\n",
      "If these failures are not expected, you can try to debug them by setting error_score='raise'.\n",
      "\n",
      "Below are more details about the failures:\n",
      "--------------------------------------------------------------------------------\n",
      "15 fits failed with the following error:\n",
      "Traceback (most recent call last):\n",
      "  File \"c:\\Users\\Alice\\Downloads\\4\\ПГП\\mult\\venv\\lib\\site-packages\\sklearn\\model_selection\\_validation.py\", line 866, in _fit_and_score\n",
      "    estimator.fit(X_train, y_train, **fit_params)\n",
      "  File \"c:\\Users\\Alice\\Downloads\\4\\ПГП\\mult\\venv\\lib\\site-packages\\sklearn\\base.py\", line 1389, in wrapper\n",
      "    return fit_method(estimator, *args, **kwargs)\n",
      "  File \"c:\\Users\\Alice\\Downloads\\4\\ПГП\\mult\\venv\\lib\\site-packages\\sklearn\\linear_model\\_logistic.py\", line 1193, in fit\n",
      "    solver = _check_solver(self.solver, self.penalty, self.dual)\n",
      "  File \"c:\\Users\\Alice\\Downloads\\4\\ПГП\\mult\\venv\\lib\\site-packages\\sklearn\\linear_model\\_logistic.py\", line 63, in _check_solver\n",
      "    raise ValueError(\n",
      "ValueError: Solver lbfgs supports only 'l2' or None penalties, got l1 penalty.\n",
      "\n",
      "--------------------------------------------------------------------------------\n",
      "15 fits failed with the following error:\n",
      "Traceback (most recent call last):\n",
      "  File \"c:\\Users\\Alice\\Downloads\\4\\ПГП\\mult\\venv\\lib\\site-packages\\sklearn\\model_selection\\_validation.py\", line 866, in _fit_and_score\n",
      "    estimator.fit(X_train, y_train, **fit_params)\n",
      "  File \"c:\\Users\\Alice\\Downloads\\4\\ПГП\\mult\\venv\\lib\\site-packages\\sklearn\\base.py\", line 1389, in wrapper\n",
      "    return fit_method(estimator, *args, **kwargs)\n",
      "  File \"c:\\Users\\Alice\\Downloads\\4\\ПГП\\mult\\venv\\lib\\site-packages\\sklearn\\linear_model\\_logistic.py\", line 1193, in fit\n",
      "    solver = _check_solver(self.solver, self.penalty, self.dual)\n",
      "  File \"c:\\Users\\Alice\\Downloads\\4\\ПГП\\mult\\venv\\lib\\site-packages\\sklearn\\linear_model\\_logistic.py\", line 63, in _check_solver\n",
      "    raise ValueError(\n",
      "ValueError: Solver lbfgs supports only 'l2' or None penalties, got elasticnet penalty.\n",
      "\n",
      "--------------------------------------------------------------------------------\n",
      "15 fits failed with the following error:\n",
      "Traceback (most recent call last):\n",
      "  File \"c:\\Users\\Alice\\Downloads\\4\\ПГП\\mult\\venv\\lib\\site-packages\\sklearn\\model_selection\\_validation.py\", line 866, in _fit_and_score\n",
      "    estimator.fit(X_train, y_train, **fit_params)\n",
      "  File \"c:\\Users\\Alice\\Downloads\\4\\ПГП\\mult\\venv\\lib\\site-packages\\sklearn\\base.py\", line 1389, in wrapper\n",
      "    return fit_method(estimator, *args, **kwargs)\n",
      "  File \"c:\\Users\\Alice\\Downloads\\4\\ПГП\\mult\\venv\\lib\\site-packages\\sklearn\\linear_model\\_logistic.py\", line 1193, in fit\n",
      "    solver = _check_solver(self.solver, self.penalty, self.dual)\n",
      "  File \"c:\\Users\\Alice\\Downloads\\4\\ПГП\\mult\\venv\\lib\\site-packages\\sklearn\\linear_model\\_logistic.py\", line 71, in _check_solver\n",
      "    raise ValueError(\n",
      "ValueError: Only 'saga' solver supports elasticnet penalty, got solver=liblinear.\n",
      "\n",
      "--------------------------------------------------------------------------------\n",
      "15 fits failed with the following error:\n",
      "Traceback (most recent call last):\n",
      "  File \"c:\\Users\\Alice\\Downloads\\4\\ПГП\\mult\\venv\\lib\\site-packages\\sklearn\\model_selection\\_validation.py\", line 866, in _fit_and_score\n",
      "    estimator.fit(X_train, y_train, **fit_params)\n",
      "  File \"c:\\Users\\Alice\\Downloads\\4\\ПГП\\mult\\venv\\lib\\site-packages\\sklearn\\base.py\", line 1389, in wrapper\n",
      "    return fit_method(estimator, *args, **kwargs)\n",
      "  File \"c:\\Users\\Alice\\Downloads\\4\\ПГП\\mult\\venv\\lib\\site-packages\\sklearn\\linear_model\\_logistic.py\", line 1203, in fit\n",
      "    raise ValueError(\"l1_ratio must be specified when penalty is elasticnet.\")\n",
      "ValueError: l1_ratio must be specified when penalty is elasticnet.\n",
      "\n",
      "--------------------------------------------------------------------------------\n",
      "15 fits failed with the following error:\n",
      "Traceback (most recent call last):\n",
      "  File \"c:\\Users\\Alice\\Downloads\\4\\ПГП\\mult\\venv\\lib\\site-packages\\sklearn\\model_selection\\_validation.py\", line 866, in _fit_and_score\n",
      "    estimator.fit(X_train, y_train, **fit_params)\n",
      "  File \"c:\\Users\\Alice\\Downloads\\4\\ПГП\\mult\\venv\\lib\\site-packages\\sklearn\\base.py\", line 1389, in wrapper\n",
      "    return fit_method(estimator, *args, **kwargs)\n",
      "  File \"c:\\Users\\Alice\\Downloads\\4\\ПГП\\mult\\venv\\lib\\site-packages\\sklearn\\linear_model\\_logistic.py\", line 1193, in fit\n",
      "    solver = _check_solver(self.solver, self.penalty, self.dual)\n",
      "  File \"c:\\Users\\Alice\\Downloads\\4\\ПГП\\mult\\venv\\lib\\site-packages\\sklearn\\linear_model\\_logistic.py\", line 76, in _check_solver\n",
      "    raise ValueError(\"penalty=None is not supported for the liblinear solver\")\n",
      "ValueError: penalty=None is not supported for the liblinear solver\n",
      "\n",
      "  warnings.warn(some_fits_failed_message, FitFailedWarning)\n",
      "c:\\Users\\Alice\\Downloads\\4\\ПГП\\mult\\venv\\lib\\site-packages\\sklearn\\model_selection\\_search.py:1107: UserWarning: One or more of the test scores are non-finite: [            nan -2.55645546e+08 -2.20006044e+08 -1.32692553e+08\n",
      " -1.19334057e+08 -1.37002130e+08             nan             nan\n",
      "             nan -5.04505496e+07             nan -4.46608595e+07\n",
      "             nan -2.04136067e+08 -1.60832517e+08 -1.36360470e+08\n",
      " -9.38427963e+07 -1.36784243e+08             nan             nan\n",
      "             nan -5.04505496e+07             nan -4.49948408e+07\n",
      "             nan -1.56592510e+08 -1.57630487e+08 -9.21564195e+07\n",
      " -6.22431981e+07 -8.92353254e+07             nan             nan\n",
      "             nan -5.04505496e+07             nan -4.46608595e+07\n",
      "             nan -4.20405333e+07 -4.81270692e+07 -3.88043988e+07\n",
      " -4.89857527e+07 -3.94921163e+07             nan             nan\n",
      "             nan -5.04505496e+07             nan -4.46577495e+07\n",
      "             nan -4.53298593e+07 -4.23040507e+07 -4.13312019e+07\n",
      " -4.41750059e+07 -4.14134232e+07             nan             nan\n",
      "             nan -5.04505496e+07             nan -4.46577495e+07]\n",
      "  warnings.warn(\n"
     ]
    },
    {
     "name": "stdout",
     "output_type": "stream",
     "text": [
      "MSE error: 30827398.570895523\n",
      "R^2 score: 0.8014315510635088\n",
      "Best params: {'C': 10, 'penalty': 'l2', 'solver': 'lbfgs'}\n"
     ]
    }
   ],
   "source": [
    "param_grid_logistic = {\n",
    "    \"penalty\": [\"l1\", \"l2\", \"elasticnet\", None],\n",
    "    \"C\": [0.01, 0.1, 1, 10, 100],\n",
    "    \"solver\": [\"lbfgs\", \"liblinear\", \"saga\"]\n",
    "}\n",
    "\n",
    "grid_search_logistic = GridSearchCV(estimator=LogisticRegression(max_iter=1000), param_grid=param_grid_logistic, scoring=make_scorer(mean_squared_error, greater_is_better=False), cv=3, verbose=2, n_jobs=-1)\n",
    "grid_search_logistic.fit(X_train, Y_train)\n",
    "best_model = grid_search_logistic.best_estimator_\n",
    "Y_pred2 = best_model.predict(X_test)\n",
    "\n",
    "print(\"MSE error:\", mean_squared_error(Y_test, Y_pred2))\n",
    "print(\"R^2 score:\", r2_score(Y_test, Y_pred2))\n",
    "print(f\"Best params: {grid_search_logistic.best_params_}\")"
   ]
  },
  {
   "cell_type": "markdown",
   "metadata": {},
   "source": [
    "### Линейная регрессия"
   ]
  },
  {
   "cell_type": "code",
   "execution_count": 20,
   "metadata": {},
   "outputs": [
    {
     "name": "stdout",
     "output_type": "stream",
     "text": [
      "Fitting 5 folds for each of 7 candidates, totalling 35 fits\n",
      "MSE error: 33676775.03771863\n",
      "R^2 score: 0.783077869219353\n",
      "Best params: {'alpha': 1}\n"
     ]
    }
   ],
   "source": [
    "from sklearn.linear_model import Ridge\n",
    "\n",
    "param_grid_ridge = {\n",
    "    \"alpha\": [100, 50, 20, 10, 5, 2, 1]\n",
    "}\n",
    "\n",
    "grid_ridge = GridSearchCV(estimator=Ridge(), param_grid=param_grid_ridge, scoring=make_scorer(mean_squared_error, greater_is_better=False), cv=5, verbose=2, n_jobs=-1)\n",
    "grid_ridge.fit(X_train, Y_train)\n",
    "best_ridge = grid_ridge.best_estimator_\n",
    "Y_pred3 = best_ridge.predict(X_test)\n",
    "\n",
    "print(\"MSE error:\", mean_squared_error(Y_test, Y_pred3))\n",
    "print(\"R^2 score:\", r2_score(Y_test, Y_pred3))\n",
    "print(f\"Best params: {grid_ridge.best_params_}\")"
   ]
  },
  {
   "cell_type": "markdown",
   "metadata": {},
   "source": [
    "### Решающее дерево"
   ]
  },
  {
   "cell_type": "code",
   "execution_count": 21,
   "metadata": {},
   "outputs": [
    {
     "name": "stdout",
     "output_type": "stream",
     "text": [
      "Fitting 5 folds for each of 36 candidates, totalling 180 fits\n",
      "MSE error: 20825652.733469196\n",
      "R^2 score: 0.8658557726866005\n",
      "Best params: {'max_depth': 5, 'min_samples_leaf': 4, 'min_samples_split': 2}\n"
     ]
    }
   ],
   "source": [
    "param_grid_tree = {\n",
    "    \"max_depth\": [None, 5, 10, 20],\n",
    "    \"min_samples_split\": [2, 5, 10],\n",
    "    \"min_samples_leaf\": [1, 2, 4]\n",
    "}\n",
    "\n",
    "grid_tree = GridSearchCV(estimator=DecisionTreeRegressor(random_state=42), param_grid=param_grid_tree, scoring=make_scorer(mean_squared_error, greater_is_better=False), cv=5, verbose=2, n_jobs=-1)\n",
    "grid_tree.fit(X_train, Y_train)\n",
    "best_tree = grid_tree.best_estimator_\n",
    "Y_pred4 = best_tree.predict(X_test)\n",
    "\n",
    "print(\"MSE error:\", mean_squared_error(Y_test, Y_pred4))\n",
    "print(\"R^2 score:\", r2_score(Y_test, Y_pred4))\n",
    "print(f\"Best params: {grid_tree.best_params_}\")"
   ]
  },
  {
   "cell_type": "markdown",
   "metadata": {},
   "source": [
    "### Случайный лес"
   ]
  },
  {
   "cell_type": "code",
   "execution_count": 22,
   "metadata": {},
   "outputs": [
    {
     "name": "stdout",
     "output_type": "stream",
     "text": [
      "Fitting 5 folds for each of 81 candidates, totalling 405 fits\n",
      "MSE error: 18959084.97218144\n",
      "R^2 score: 0.8778788911583516\n",
      "Best params: {'max_depth': 10, 'min_samples_leaf': 4, 'min_samples_split': 10, 'n_estimators': 200}\n"
     ]
    }
   ],
   "source": [
    "param_grid_forest = {\n",
    "    \"n_estimators\": [50, 100, 200],\n",
    "    \"max_depth\": [None, 10, 20],\n",
    "    \"min_samples_split\": [2, 5, 10],\n",
    "    \"min_samples_leaf\": [1, 2, 4]\n",
    "}\n",
    "\n",
    "grid_forest = GridSearchCV(estimator=RandomForestRegressor(random_state=42), param_grid=param_grid_forest, scoring=make_scorer(mean_squared_error, greater_is_better=False), cv=5, verbose=2, n_jobs=-1)\n",
    "grid_forest.fit(X_train, Y_train)\n",
    "best_random_forest = grid_forest.best_estimator_\n",
    "Y_pred5 = best_random_forest.predict(X_test)\n",
    "\n",
    "print(\"MSE error:\", mean_squared_error(Y_test, Y_pred5))\n",
    "print(\"R^2 score:\", r2_score(Y_test, Y_pred5))\n",
    "print(f\"Best params: {grid_forest.best_params_}\")\n"
   ]
  },
  {
   "cell_type": "markdown",
   "metadata": {},
   "source": [
    "### Градиентный бустинг"
   ]
  },
  {
   "cell_type": "code",
   "execution_count": 23,
   "metadata": {},
   "outputs": [
    {
     "name": "stdout",
     "output_type": "stream",
     "text": [
      "Fitting 5 folds for each of 525 candidates, totalling 2625 fits\n",
      "MSE error: 19469343.15755581\n",
      "R^2 score: 0.8745921663251185\n",
      "Best params: {'max_depth': None, 'min_samples_leaf': 64, 'min_samples_split': 2, 'n_estimators': 50}\n"
     ]
    }
   ],
   "source": [
    "param_grid_gradient_boosting = {\n",
    "    \"n_estimators\": [20, 40, 50, 75,  100],\n",
    "    \"max_depth\": [None, 10, 20],\n",
    "    \"min_samples_split\": [2, 3, 5, 10, 15],\n",
    "    \"min_samples_leaf\": [16, 20, 24, 32, 48, 64, 100]\n",
    "}\n",
    "\n",
    "grid_gradient_boosting = GridSearchCV(estimator=GradientBoostingRegressor(random_state=42, learning_rate=0.1), param_grid=param_grid_gradient_boosting, scoring=make_scorer(mean_squared_error, greater_is_better=False), cv=5, verbose=2, n_jobs=-1)\n",
    "grid_gradient_boosting.fit(X_train, Y_train)\n",
    "best_gradient_boosting = grid_gradient_boosting.best_estimator_\n",
    "Y_pred6 = best_gradient_boosting.predict(X_test)\n",
    "\n",
    "print(\"MSE error:\", mean_squared_error(Y_test, Y_pred6))\n",
    "print(\"R^2 score:\", r2_score(Y_test, Y_pred6))\n",
    "print(f\"Best params: {grid_gradient_boosting.best_params_}\")\n"
   ]
  },
  {
   "cell_type": "markdown",
   "metadata": {},
   "source": [
    "# Собственная реализация алгоритмов машинного обучения\n",
    "\n",
    "Обучение моделей с исходным бейзлайном"
   ]
  },
  {
   "cell_type": "code",
   "execution_count": 24,
   "metadata": {},
   "outputs": [],
   "source": [
    "data = pd.read_csv(data_path)\n",
    "\n",
    "label_encoders = {}\n",
    "for col in ['sex', 'smoker', 'region']:\n",
    "    le = LabelEncoder()\n",
    "    data[col] = le.fit_transform(data[col])\n",
    "    label_encoders[col] = le\n",
    "\n",
    "data['charges'] = data['charges'].apply(round)\n",
    "\n",
    "X = data.drop('charges', axis=1)\n",
    "Y = data['charges']\n",
    "\n",
    "X_train, X_test, Y_train, Y_test = train_test_split(X, Y, test_size=0.2, random_state=42)"
   ]
  },
  {
   "cell_type": "code",
   "execution_count": 25,
   "metadata": {},
   "outputs": [],
   "source": [
    "import numpy as np\n",
    "\n",
    "class MyKNNRegressor:\n",
    "    def __init__(self, n_neighbors=3):\n",
    "        self.num_neighbors = n_neighbors\n",
    "\n",
    "    def fit(self, features, labels):\n",
    "        self.x_train = np.array(features)\n",
    "        self.y_train = np.array(labels)\n",
    "\n",
    "    def predict(self, test_features):\n",
    "        predictions = []\n",
    "        features = np.array(test_features, dtype=float)\n",
    "        for feature in features:\n",
    "            distances = np.linalg.norm(self.x_train - feature, axis=1)\n",
    "            nearest_indices = np.argsort(distances)[:self.num_neighbors]\n",
    "            nearest_labels = self.y_train[nearest_indices]\n",
    "            predictions.append(np.mean(nearest_labels))\n",
    "        return np.array(predictions)\n"
   ]
  },
  {
   "cell_type": "code",
   "execution_count": 26,
   "metadata": {},
   "outputs": [
    {
     "name": "stdout",
     "output_type": "stream",
     "text": [
      "MSE error: 132180521.85179144\n",
      "R^2 score: 0.14858591965310486\n"
     ]
    }
   ],
   "source": [
    "modelKNN = MyKNNRegressor(n_neighbors=100)\n",
    "modelKNN.fit(X_train, Y_train)\n",
    "Y_pred = modelKNN.predict(X_test)\n",
    "\n",
    "print(\"MSE error:\", mean_squared_error(Y_test, Y_pred))\n",
    "print(\"R^2 score:\", r2_score(Y_test, Y_pred))"
   ]
  },
  {
   "cell_type": "markdown",
   "metadata": {},
   "source": [
    "### Логистическая регрессия"
   ]
  },
  {
   "cell_type": "code",
   "execution_count": 27,
   "metadata": {},
   "outputs": [],
   "source": [
    "import numpy as np\n",
    "\n",
    "class MyLogisticRegression:\n",
    "    def __init__(self, learning_rate=0.01, num_iterations=100000):\n",
    "        self.learning_rate = learning_rate\n",
    "        self.num_iterations = num_iterations\n",
    "        self.weights = None\n",
    "        self.bias = None\n",
    "\n",
    "    def sigmoid(self, z):\n",
    "        return 1 / (1 + np.exp(-z))\n",
    "\n",
    "    def fit(self, features, labels):\n",
    "        n_samples, n_features = features.shape\n",
    "        self.weights = np.zeros(n_features)  \n",
    "        self.bias = 0 \n",
    "\n",
    "        self.y_min = labels.min()\n",
    "        self.y_max = labels.max()\n",
    "        labels_scaled = (labels - self.y_min) / (self.y_max - self.y_min)\n",
    "\n",
    "        for _ in range(self.num_iterations):\n",
    "            linear_model = np.dot(features, self.weights) + self.bias\n",
    "            y_predicted = self.sigmoid(linear_model)\n",
    "\n",
    "            dw = (1 / n_samples) * np.dot(features.T, (y_predicted - labels_scaled))\n",
    "            db = (1 / n_samples) * np.sum(y_predicted - labels_scaled)\n",
    "\n",
    "            self.weights -= self.learning_rate * dw\n",
    "            self.bias -= self.learning_rate * db\n",
    "\n",
    "    def predict(self, test_features):\n",
    "        linear_model = np.dot(test_features, self.weights) + self.bias\n",
    "        y_predicted = self.sigmoid(linear_model)\n",
    "\n",
    "        return y_predicted * (self.y_max - self.y_min) + self.y_min\n"
   ]
  },
  {
   "cell_type": "code",
   "execution_count": 28,
   "metadata": {},
   "outputs": [
    {
     "name": "stdout",
     "output_type": "stream",
     "text": [
      "MSE error: 144325431.27322793\n",
      "R^2 score: 0.0703569435446364\n"
     ]
    }
   ],
   "source": [
    "modelLogisticRegression = MyLogisticRegression()\n",
    "modelLogisticRegression.fit(X_train, Y_train)\n",
    "Y_pred2 = modelLogisticRegression.predict(X_test)\n",
    "\n",
    "print(\"MSE error:\", mean_squared_error(Y_test, Y_pred2))\n",
    "print(\"R^2 score:\", r2_score(Y_test, Y_pred2))"
   ]
  },
  {
   "cell_type": "markdown",
   "metadata": {},
   "source": [
    "### Линейная регрессия"
   ]
  },
  {
   "cell_type": "code",
   "execution_count": 29,
   "metadata": {},
   "outputs": [],
   "source": [
    "import numpy as np\n",
    "\n",
    "class MyLinearRegression:\n",
    "    def __init__(self):\n",
    "        self.weights = None\n",
    "        self.bias = None\n",
    "\n",
    "    def fit(self, X, y):\n",
    "        X = np.array(X)\n",
    "        y = np.array(y)\n",
    "\n",
    "        if X.ndim == 1:\n",
    "            X = X.reshape(-1, 1)\n",
    "\n",
    "        X = np.hstack((np.ones((X.shape[0], 1)), X))\n",
    "\n",
    "        XtX = np.dot(X.T, X)\n",
    "        Xty = np.dot(X.T, y)\n",
    "        params = np.linalg.solve(XtX, Xty)\n",
    "\n",
    "        self.bias = params[0]          \n",
    "        self.weights = params[1:]      \n",
    "\n",
    "    def predict(self, X):\n",
    "        X = np.array(X)\n",
    "        if X.ndim == 1:\n",
    "            X = X.reshape(-1, 1)\n",
    "\n",
    "        return np.dot(X, self.weights) + self.bias\n"
   ]
  },
  {
   "cell_type": "code",
   "execution_count": 30,
   "metadata": {},
   "outputs": [
    {
     "name": "stdout",
     "output_type": "stream",
     "text": [
      "MSE error: 33634917.01004701\n",
      "R^2 score: 0.783347489233224\n"
     ]
    }
   ],
   "source": [
    "modelLinearRegression = MyLinearRegression()\n",
    "modelLinearRegression.fit(X_train, Y_train)\n",
    "Y_pred3 = modelLinearRegression.predict(X_test)\n",
    "\n",
    "print(\"MSE error:\", mean_squared_error(Y_test, Y_pred3))\n",
    "print(\"R^2 score:\", r2_score(Y_test, Y_pred3))"
   ]
  },
  {
   "cell_type": "markdown",
   "metadata": {},
   "source": [
    "### Решающее дерево"
   ]
  },
  {
   "cell_type": "code",
   "execution_count": 31,
   "metadata": {},
   "outputs": [],
   "source": [
    "import numpy as np\n",
    "\n",
    "class MyDecisionTree:\n",
    "    def __init__(self, max_depth=5, min_samples_split=2):\n",
    "        self.max_depth = max_depth\n",
    "        self.min_samples_split = min_samples_split\n",
    "        self.tree = None\n",
    "\n",
    "    def fit(self, X, y):\n",
    "        X = np.array(X) \n",
    "        y = np.array(y)\n",
    "        if X.ndim == 1:\n",
    "            X = X.reshape(-1, 1)  \n",
    "        self.tree = self._build_tree(X, y, depth=0)\n",
    "\n",
    "    def _build_tree(self, X, y, depth):\n",
    "        if len(y) < self.min_samples_split or depth == self.max_depth or len(np.unique(y)) == 1:\n",
    "            return np.mean(y)\n",
    "\n",
    "        feature, threshold, mse = self._find_best_split(X, y)\n",
    "        if feature is None:\n",
    "            return np.mean(y)\n",
    "\n",
    "        left_indices = X[:, feature] <= threshold\n",
    "        right_indices = X[:, feature] > threshold\n",
    "\n",
    "        left_subtree = self._build_tree(X[left_indices], y[left_indices], depth + 1)\n",
    "        right_subtree = self._build_tree(X[right_indices], y[right_indices], depth + 1)\n",
    "\n",
    "        return {\n",
    "            \"feature\": feature,\n",
    "            \"threshold\": threshold,\n",
    "            \"left\": left_subtree,\n",
    "            \"right\": right_subtree,\n",
    "        }\n",
    "\n",
    "    def _find_best_split(self, X, y):\n",
    "        n_samples, n_features = X.shape\n",
    "        best_feature, best_threshold, best_mse = None, None, float(\"inf\")\n",
    "\n",
    "        for feature in range(n_features):\n",
    "            thresholds = np.unique(X[:, feature])\n",
    "            for threshold in thresholds:\n",
    "                left = y[X[:, feature] <= threshold]\n",
    "                right = y[X[:, feature] > threshold]\n",
    "\n",
    "                if len(left) == 0 or len(right) == 0:\n",
    "                    continue\n",
    "\n",
    "                mse = (\n",
    "                    len(left) * np.var(left) +\n",
    "                    len(right) * np.var(right)\n",
    "                ) / len(y)\n",
    "\n",
    "                if mse < best_mse:\n",
    "                    best_feature, best_threshold, best_mse = feature, threshold, mse\n",
    "\n",
    "        return best_feature, best_threshold, best_mse\n",
    "\n",
    "    def predict(self, X):\n",
    "        X = np.array(X)  \n",
    "        if X.ndim == 1:\n",
    "            X = X.reshape(-1, 1) \n",
    "        return np.array([self._traverse_tree(sample, self.tree) for sample in X])\n",
    "\n",
    "    def _traverse_tree(self, x, node):\n",
    "        if not isinstance(node, dict):\n",
    "            return node\n",
    "\n",
    "        if x[node[\"feature\"]] <= node[\"threshold\"]:\n",
    "            return self._traverse_tree(x, node[\"left\"])\n",
    "        else:\n",
    "            return self._traverse_tree(x, node[\"right\"])\n"
   ]
  },
  {
   "cell_type": "code",
   "execution_count": 32,
   "metadata": {},
   "outputs": [
    {
     "name": "stdout",
     "output_type": "stream",
     "text": [
      "MSE error: 23917038.50975873\n",
      "R^2 score: 0.8459432368542165\n"
     ]
    }
   ],
   "source": [
    "modelDecisionTree = MyDecisionTree()\n",
    "modelDecisionTree.fit(X_train, Y_train)\n",
    "Y_pred4 = modelDecisionTree.predict(X_test)\n",
    "\n",
    "print(\"MSE error:\", mean_squared_error(Y_test, Y_pred4))\n",
    "print(\"R^2 score:\", r2_score(Y_test, Y_pred4))"
   ]
  },
  {
   "cell_type": "markdown",
   "metadata": {},
   "source": [
    "### Случайный лес"
   ]
  },
  {
   "cell_type": "code",
   "execution_count": 33,
   "metadata": {},
   "outputs": [],
   "source": [
    "import numpy as np\n",
    "\n",
    "class MyRandomForest:\n",
    "    def __init__(self, n_trees=10, max_depth=5, sample_size=0.8):\n",
    "        self.n_trees = n_trees\n",
    "        self.max_depth = max_depth\n",
    "        self.sample_size = sample_size\n",
    "        self.trees = []\n",
    "\n",
    "    def _bootstrap_sample(self, X, y):\n",
    "        n_samples = int(len(X) * self.sample_size)\n",
    "        indices = np.random.choice(len(X), size=n_samples, replace=True)\n",
    "        return X[indices], y[indices]\n",
    "\n",
    "    def fit(self, X, y):\n",
    "        X = np.array(X)  \n",
    "        y = np.array(y)  \n",
    "        if X.ndim == 1:\n",
    "            X = X.reshape(-1, 1)\n",
    "\n",
    "        self.trees = []\n",
    "        for _ in range(self.n_trees):\n",
    "            tree = MyDecisionTree(max_depth=self.max_depth)\n",
    "            X_sample, y_sample = self._bootstrap_sample(X, y)\n",
    "            tree.fit(X_sample, y_sample)\n",
    "            self.trees.append(tree)\n",
    "\n",
    "    def predict(self, X):\n",
    "        X = np.array(X)\n",
    "        if X.ndim == 1:\n",
    "            X = X.reshape(-1, 1)\n",
    "\n",
    "        tree_predictions = np.array([tree.predict(X) for tree in self.trees])\n",
    "        return np.mean(tree_predictions, axis=0)\n"
   ]
  },
  {
   "cell_type": "code",
   "execution_count": 34,
   "metadata": {},
   "outputs": [
    {
     "name": "stdout",
     "output_type": "stream",
     "text": [
      "MSE error: 21663100.53115493\n",
      "R^2 score: 0.8604615221834545\n"
     ]
    }
   ],
   "source": [
    "modelRandomForest = MyRandomForest()\n",
    "modelRandomForest.fit(X_train, Y_train)\n",
    "Y_pred5 = modelRandomForest.predict(X_test)\n",
    "\n",
    "print(\"MSE error:\", mean_squared_error(Y_test, Y_pred5))\n",
    "print(\"R^2 score:\", r2_score(Y_test, Y_pred5))"
   ]
  },
  {
   "cell_type": "markdown",
   "metadata": {},
   "source": [
    "### Градиентный бустинг"
   ]
  },
  {
   "cell_type": "code",
   "execution_count": 35,
   "metadata": {},
   "outputs": [],
   "source": [
    "import numpy as np\n",
    "\n",
    "class MyGradientBoosting:\n",
    "    def __init__(self, n_estimators=100, learning_rate=0.1, max_depth=3):\n",
    "        self.n_estimators = n_estimators\n",
    "        self.learning_rate = learning_rate\n",
    "        self.max_depth = max_depth\n",
    "        self.models = []\n",
    "        self.initial_prediction = None\n",
    "\n",
    "    def fit(self, X, y):\n",
    "        X = np.array(X)\n",
    "        y = np.array(y)\n",
    "\n",
    "        if X.ndim == 1:\n",
    "            X = X.reshape(-1, 1)\n",
    "\n",
    "        self.initial_prediction = np.mean(y)\n",
    "        y_pred = np.full(y.shape, self.initial_prediction)\n",
    "\n",
    "        for _ in range(self.n_estimators):\n",
    "            residuals = y - y_pred  \n",
    "\n",
    "            model = MyDecisionTree(max_depth=self.max_depth)\n",
    "            model.fit(X, residuals)\n",
    "            self.models.append(model)\n",
    "\n",
    "            y_pred += self.learning_rate * model.predict(X)\n",
    "\n",
    "    def predict(self, X):\n",
    "        X = np.array(X)\n",
    "        if X.ndim == 1:\n",
    "            X = X.reshape(-1, 1)\n",
    "\n",
    "        y_pred = np.full(X.shape[0], self.initial_prediction)\n",
    "\n",
    "        for model in self.models:\n",
    "            y_pred += self.learning_rate * model.predict(X)\n",
    "\n",
    "        return y_pred\n"
   ]
  },
  {
   "cell_type": "code",
   "execution_count": 36,
   "metadata": {},
   "outputs": [
    {
     "name": "stdout",
     "output_type": "stream",
     "text": [
      "MSE error: 18858279.12668616\n",
      "R^2 score: 0.8785282116106661\n"
     ]
    }
   ],
   "source": [
    "modelGradientBoosting = MyGradientBoosting()\n",
    "modelGradientBoosting.fit(X_train, Y_train)\n",
    "Y_pred6 = modelGradientBoosting.predict(X_test)\n",
    "\n",
    "print(\"MSE error:\", mean_squared_error(Y_test, Y_pred6))\n",
    "print(\"R^2 score:\", r2_score(Y_test, Y_pred6))"
   ]
  },
  {
   "cell_type": "markdown",
   "metadata": {},
   "source": [
    "## Обучение своих моделей с помощью улучшенного бейзлайна"
   ]
  },
  {
   "cell_type": "code",
   "execution_count": 37,
   "metadata": {},
   "outputs": [],
   "source": [
    "data = pd.read_csv(data_path)\n",
    "\n",
    "label_encoders = {}\n",
    "for col in ['sex', 'smoker', 'region']:\n",
    "    le = LabelEncoder()\n",
    "    data[col] = le.fit_transform(data[col])\n",
    "    label_encoders[col] = le\n",
    "\n",
    "data['charges'] = data['charges'].apply(round)\n",
    "\n",
    "categorical_features = ['sex', 'smoker']\n",
    "\n",
    "encoder = OneHotEncoder(handle_unknown='ignore', sparse_output=False)\n",
    "encoder.fit(data[categorical_features])\n",
    "\n",
    "X = data.drop('charges', axis=1)\n",
    "Y = data['charges']\n",
    "\n",
    "scaler = MinMaxScaler()\n",
    "X_scaled = scaler.fit_transform(X)\n",
    "\n",
    "X_train, X_test, Y_train, Y_test = train_test_split(X_scaled, Y, test_size=0.2, random_state=42)"
   ]
  },
  {
   "cell_type": "markdown",
   "metadata": {},
   "source": [
    "### KNN"
   ]
  },
  {
   "cell_type": "code",
   "execution_count": 38,
   "metadata": {},
   "outputs": [
    {
     "name": "stdout",
     "output_type": "stream",
     "text": [
      "MSE error: 31367915.52168843\n",
      "R^2 score: 0.7979499205167082\n"
     ]
    }
   ],
   "source": [
    "modelKNN = MyKNNRegressor(n_neighbors=4)\n",
    "modelKNN.fit(X_train, Y_train)\n",
    "Y_pred = modelKNN.predict(X_test)\n",
    "\n",
    "print(\"MSE error:\", mean_squared_error(Y_test, Y_pred))\n",
    "print(\"R^2 score:\", r2_score(Y_test, Y_pred))"
   ]
  },
  {
   "cell_type": "markdown",
   "metadata": {},
   "source": [
    "### Логистическая регрессия"
   ]
  },
  {
   "cell_type": "code",
   "execution_count": 39,
   "metadata": {},
   "outputs": [
    {
     "name": "stdout",
     "output_type": "stream",
     "text": [
      "MSE error: 30896368.571407296\n",
      "R^2 score: 0.8009872947636049\n"
     ]
    }
   ],
   "source": [
    "modelLogisticRegression = MyLogisticRegression()\n",
    "modelLogisticRegression.fit(X_train, Y_train)\n",
    "Y_pred2 = modelLogisticRegression.predict(X_test)\n",
    "\n",
    "print(\"MSE error:\", mean_squared_error(Y_test, Y_pred2))\n",
    "print(\"R^2 score:\", r2_score(Y_test, Y_pred2))"
   ]
  },
  {
   "cell_type": "markdown",
   "metadata": {},
   "source": [
    "### Линейная регрессия"
   ]
  },
  {
   "cell_type": "code",
   "execution_count": 40,
   "metadata": {},
   "outputs": [
    {
     "name": "stdout",
     "output_type": "stream",
     "text": [
      "MSE error: 33634917.010047\n",
      "R^2 score: 0.7833474892332241\n"
     ]
    }
   ],
   "source": [
    "modelLinearRegression = MyLinearRegression()\n",
    "modelLinearRegression.fit(X_train, Y_train)\n",
    "Y_pred3 = modelLinearRegression.predict(X_test)\n",
    "\n",
    "print(\"MSE error:\", mean_squared_error(Y_test, Y_pred3))\n",
    "print(\"R^2 score:\", r2_score(Y_test, Y_pred3))"
   ]
  },
  {
   "cell_type": "markdown",
   "metadata": {},
   "source": [
    "### Решающее дерево"
   ]
  },
  {
   "cell_type": "code",
   "execution_count": 41,
   "metadata": {},
   "outputs": [
    {
     "name": "stdout",
     "output_type": "stream",
     "text": [
      "MSE error: 21093483.309189755\n",
      "R^2 score: 0.8641305962375956\n"
     ]
    }
   ],
   "source": [
    "modelDecisionTree = MyDecisionTree(min_samples_split=3, max_depth=4)\n",
    "modelDecisionTree.fit(X_train, Y_train)\n",
    "Y_pred4 = modelDecisionTree.predict(X_test)\n",
    "\n",
    "print(\"MSE error:\", mean_squared_error(Y_test, Y_pred4))\n",
    "print(\"R^2 score:\", r2_score(Y_test, Y_pred4))"
   ]
  },
  {
   "cell_type": "markdown",
   "metadata": {},
   "source": [
    "### Случайный лес"
   ]
  },
  {
   "cell_type": "code",
   "execution_count": 45,
   "metadata": {},
   "outputs": [
    {
     "name": "stdout",
     "output_type": "stream",
     "text": [
      "MSE error: 21391468.977599967\n",
      "R^2 score: 0.8622111818619245\n"
     ]
    }
   ],
   "source": [
    "modelRandomForest = MyRandomForest(n_trees=3, max_depth=4, sample_size=0.5)\n",
    "modelRandomForest.fit(X_train, Y_train)\n",
    "Y_pred5 = modelRandomForest.predict(X_test)\n",
    "\n",
    "print(\"MSE error:\", mean_squared_error(Y_test, Y_pred5))\n",
    "print(\"R^2 score:\", r2_score(Y_test, Y_pred5))"
   ]
  },
  {
   "cell_type": "markdown",
   "metadata": {},
   "source": [
    "### Градиентный бустинг"
   ]
  },
  {
   "cell_type": "code",
   "execution_count": 43,
   "metadata": {},
   "outputs": [
    {
     "name": "stdout",
     "output_type": "stream",
     "text": [
      "MSE error: 18742657.321976822\n",
      "R^2 score: 0.8792729660657516\n"
     ]
    }
   ],
   "source": [
    "modelGradientBoosting = MyGradientBoosting(n_estimators=50, learning_rate=0.1, max_depth=3)\n",
    "modelGradientBoosting.fit(X_train, Y_train)\n",
    "Y_pred6 = modelGradientBoosting.predict(X_test)\n",
    "\n",
    "print(\"MSE error:\", mean_squared_error(Y_test, Y_pred6))\n",
    "print(\"R^2 score:\", r2_score(Y_test, Y_pred6))"
   ]
  },
  {
   "cell_type": "markdown",
   "metadata": {},
   "source": [
    "В результате выполнения данного задания удалось значительно улучшить базовые показатели точности для большинства стандартных моделей из библиотеки scikit-learn. Реализация моделей вручную позволила глубже понять их внутреннюю логику, а также принципы работы алгоритмов машинного обучения, таких как линейная и логистическая регрессии, деревья решений, случайный лес, градиентный бустинг и метод ближайших соседей.\n",
    "\n",
    "Почти все модели показали достаточно хорошую точность в задачи регрессии, особенно с улусшенным бейзлайном. Cамостоятельная имплементация показала результаты сравнимые с оптимизированными версиями из scikit-learn."
   ]
  }
 ],
 "metadata": {
  "kernelspec": {
   "display_name": "venv",
   "language": "python",
   "name": "python3"
  },
  "language_info": {
   "codemirror_mode": {
    "name": "ipython",
    "version": 3
   },
   "file_extension": ".py",
   "mimetype": "text/x-python",
   "name": "python",
   "nbconvert_exporter": "python",
   "pygments_lexer": "ipython3",
   "version": "3.10.7"
  }
 },
 "nbformat": 4,
 "nbformat_minor": 2
}
